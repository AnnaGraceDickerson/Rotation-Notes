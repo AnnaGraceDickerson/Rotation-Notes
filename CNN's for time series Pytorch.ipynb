{
 "cells": [
  {
   "cell_type": "markdown",
   "id": "ff4c4158-ba08-4e3a-b898-bf6de4748a7c",
   "metadata": {},
   "source": [
    "# Time-series CNN forecasting\n",
    "[source](https://machinelearningmastery.com/how-to-develop-convolutional-neural-network-models-for-time-series-forecasting/)\n",
    "\n",
    "\n",
    "#### 7 Options:\n",
    "\n",
    "*Predict Binary Class*\n",
    "- **Univariate CNN Models**\n",
    "   1.  Raw data -> binary class\n",
    "   2.  Only high pass -> binary class\n",
    "- **Multivariate CNN Models**\n",
    "   - **Multiple Input Series**\n",
    "      3. Spike-sorted/single-unit -> binary class\n",
    "   - **Multiple Parallel Series**\n",
    "\n",
    "*Predict voltage instead of binary class, then feed to a seizure classification algorithm*\n",
    "- **Multi-Step CNN Models**\n",
    "   4. Raw data -> raw data \n",
    "   5. Only high pass -> only high pass\n",
    "- **Multivariate Multi-Step CNN Models**\n",
    "    - **Multiple Input Multi-Step Output**\n",
    "       6. Spike-sorted/single-unit -> high pass\n",
    "    - **Multiple Parallel Input and Multi-Step Output**\n",
    "       7. Spike-sorted/single-unit -> Spike-sorted/single-unit\n",
    "      \n",
    "#### Also \n",
    "I could combine the two and feed the voltage prediction back into another CNN that spits out a binary class (instead of feeding it into a seizure classification algorithm).\n",
    "\n",
    "This could be applied to options 4-7 to produce models 8-11 **for a total of 11 models to evaluate**.\n",
    "\n",
    "And this is only the temporal CNN option. I could also try a [Multilayer Perceptron Model](https://machinelearningmastery.com/how-to-develop-multilayer-perceptron-models-for-time-series-forecasting/)\n",
    ", [LSTM Model](https://machinelearningmastery.com/how-to-develop-lstm-models-for-time-series-forecasting/), Seq2Seq, TCN, GRU\n",
    "and each of these could be trained the different ways as above as well. 3 x 11 = 33.\n",
    "\n",
    "And there are more models and more combos. ahhh. hopefully a pattern in the options will quickly make clear what is best"
   ]
  },
  {
   "cell_type": "markdown",
   "id": "8fb80f3d-6ada-48a3-b759-4f26043f44b2",
   "metadata": {},
   "source": [
    "I asked chatgpt what it thought and it was a helpful summary and agreement with my thoughts:\n",
    "\n",
    "*What I asked it:* if given frequencies, is it easier for the model to learn the relationship between the current and future waves and predict the next parts of the waves which can then be classified as a siezure or not, or would it be easier to only tell it yes or no if the current waves came before a seizure so it couldn't learn a relationship between the current and future waves it could only learn a relationship betwen the current waves and a binary which seems like it has a less of a relationship"
   ]
  },
  {
   "cell_type": "code",
   "execution_count": 7,
   "id": "c40052e9-0827-4fca-bc8e-2a613efa4d74",
   "metadata": {},
   "outputs": [],
   "source": [
    "import numpy as np\n",
    "from numpy import array"
   ]
  },
  {
   "cell_type": "markdown",
   "id": "c3c49213-5986-4052-a51f-b944b040c85e",
   "metadata": {},
   "source": [
    "# Univariate CNN Model"
   ]
  },
  {
   "cell_type": "code",
   "execution_count": 14,
   "id": "bc0149f0-734c-4c93-a257-0f01c67d181b",
   "metadata": {},
   "outputs": [
    {
     "data": {
      "text/plain": [
       "array([10, 20, 30, 40, 50, 60, 70, 80, 90])"
      ]
     },
     "execution_count": 14,
     "metadata": {},
     "output_type": "execute_result"
    }
   ],
   "source": [
    "x = np.arange(10, 100, 10)\n",
    "x"
   ]
  },
  {
   "cell_type": "code",
   "execution_count": 36,
   "id": "16e99487-c73a-467d-b85a-02972d0f1344",
   "metadata": {},
   "outputs": [],
   "source": [
    "# source linked above perfectly explains why you're doing this\n",
    "\n",
    "# split a univariate sequence into samples\n",
    "def split_sequence(sequence, n_steps):\n",
    "\tX, y = list(), list()\n",
    "\tfor i in range(len(sequence)):\n",
    "\t\t# find the end of this pattern\n",
    "\t\tend_ix = i + n_steps\n",
    "\t\t# check if we are beyond the sequence\n",
    "\t\tif end_ix > len(sequence)-1:\n",
    "\t\t\tbreak\n",
    "\t\t# gather input and output parts of the pattern\n",
    "\t\tseq_x, seq_y = sequence[i:end_ix], sequence[end_ix]\n",
    "\t\tX.append(seq_x)\n",
    "\t\ty.append(seq_y)\n",
    "\treturn array(X), array(y)"
   ]
  },
  {
   "cell_type": "code",
   "execution_count": 35,
   "id": "07c59b7e-33fb-4caf-b67b-52ba5732005e",
   "metadata": {
    "scrolled": true
   },
   "outputs": [
    {
     "name": "stdout",
     "output_type": "stream",
     "text": [
      "[10 20 30] 40\n",
      "[20 30 40] 50\n",
      "[30 40 50] 60\n",
      "[40 50 60] 70\n",
      "[50 60 70] 80\n",
      "[60 70 80] 90\n"
     ]
    }
   ],
   "source": [
    "# define input sequence\n",
    "raw_seq = [10, 20, 30, 40, 50, 60, 70, 80, 90]\n",
    "# choose a number of time steps\n",
    "n_steps = 3\n",
    "# split into samples\n",
    "X, y = split_sequence_univar(raw_seq, n_steps)\n",
    "# summarize the data\n",
    "for i in range(len(X)):\n",
    "\tprint(X[i], y[i])"
   ]
  },
  {
   "cell_type": "code",
   "execution_count": null,
   "id": "0abe6d05-35d2-4ce9-bfbd-0a1db8fe1e3c",
   "metadata": {},
   "outputs": [],
   "source": []
  },
  {
   "cell_type": "markdown",
   "id": "bcecb53c-7a5f-4ecd-a9d7-a36cd63ca996",
   "metadata": {},
   "source": [
    "## Multiple Input Series"
   ]
  },
  {
   "cell_type": "code",
   "execution_count": 24,
   "id": "3e7dc0af-4d75-429d-9edd-3c983274b48a",
   "metadata": {},
   "outputs": [],
   "source": [
    "# define input sequence\n",
    "in_seq1 = array([10, 20, 30, 40, 50, 60, 70, 80, 90])\n",
    "in_seq2 = array([15, 25, 35, 45, 55, 65, 75, 85, 95])\n",
    "out_seq = array([in_seq1[i]+in_seq2[i] for i in range(len(in_seq1))])"
   ]
  },
  {
   "cell_type": "code",
   "execution_count": 26,
   "id": "232e8364-db57-469b-ab61-fcc9ff68918b",
   "metadata": {},
   "outputs": [],
   "source": [
    "# convert to [rows, columns] structure\n",
    "in_seq1 = in_seq1.reshape((len(in_seq1), 1))\n",
    "in_seq2 = in_seq2.reshape((len(in_seq2), 1))\n",
    "out_seq = out_seq.reshape((len(out_seq), 1))\n",
    "# horizontally stack columns\n",
    "dataset = np.hstack((in_seq1, in_seq2, out_seq))"
   ]
  },
  {
   "cell_type": "code",
   "execution_count": 30,
   "id": "2db0f11a-064b-4297-bc85-939c92afdd19",
   "metadata": {},
   "outputs": [
    {
     "name": "stdout",
     "output_type": "stream",
     "text": [
      "[[ 10  15  25]\n",
      " [ 20  25  45]\n",
      " [ 30  35  65]\n",
      " [ 40  45  85]\n",
      " [ 50  55 105]\n",
      " [ 60  65 125]\n",
      " [ 70  75 145]\n",
      " [ 80  85 165]\n",
      " [ 90  95 185]]\n"
     ]
    }
   ],
   "source": [
    "print(dataset)"
   ]
  },
  {
   "cell_type": "markdown",
   "id": "3f004b0e-e348-43b4-b26d-1d7bf15d5634",
   "metadata": {},
   "source": [
    "A 1D CNN model needs sufficient context to learn a mapping from an input sequence to an output value. **CNNs can support parallel input time series as separate channels, like red, green, and blue components of an image**. Therefore, *we need to split the data into samples maintaining the order of observations across the two input sequences*.\n",
    "\n",
    "If we chose three input time steps,\n",
    "\n",
    "`10, 15`\n",
    "\n",
    "`20, 25`\n",
    "\n",
    "`30, 35`\n",
    "\n",
    "the first three time steps of each parallel series are provided as input to the model and the model associates this with the value in the output series at the third time step, in this case, `65`."
   ]
  },
  {
   "cell_type": "code",
   "execution_count": 37,
   "id": "05ac6cd6-8491-453f-8570-df1591b89692",
   "metadata": {},
   "outputs": [],
   "source": [
    "# split a multivariate sequence into samples\n",
    "def split_sequences(sequences, n_steps):\n",
    "\tX, y = list(), list()\n",
    "\tfor i in range(len(sequences)):\n",
    "\t\t# find the end of this pattern\n",
    "\t\tend_ix = i + n_steps\n",
    "\t\t# check if we are beyond the dataset\n",
    "\t\tif end_ix > len(sequences):\n",
    "\t\t\tbreak\n",
    "\t\t# gather input and output parts of the pattern\n",
    "\t\tseq_x, seq_y = sequences[i:end_ix, :-1], sequences[end_ix-1, -1]\n",
    "\t\tX.append(seq_x)\n",
    "\t\ty.append(seq_y)\n",
    "\treturn array(X), array(y)"
   ]
  },
  {
   "cell_type": "code",
   "execution_count": null,
   "id": "a96460a2-245c-4b11-989b-27f829a12377",
   "metadata": {},
   "outputs": [],
   "source": []
  },
  {
   "cell_type": "code",
   "execution_count": 50,
   "id": "25be0bc5-9e92-4a34-a995-91b58a036988",
   "metadata": {},
   "outputs": [
    {
     "name": "stdout",
     "output_type": "stream",
     "text": [
      "Number of samples: 7 \n",
      "Number of timesteps: 3 \n",
      "Number of parallel time series (or # of vars/features): 2 \n",
      "Number of predictions: 7 \n",
      "\n",
      "[[10 15]\n",
      " [20 25]\n",
      " [30 35]] 65\n",
      "[[20 25]\n",
      " [30 35]\n",
      " [40 45]] 85\n",
      "[[30 35]\n",
      " [40 45]\n",
      " [50 55]] 105\n",
      "[[40 45]\n",
      " [50 55]\n",
      " [60 65]] 125\n",
      "[[50 55]\n",
      " [60 65]\n",
      " [70 75]] 145\n",
      "[[60 65]\n",
      " [70 75]\n",
      " [80 85]] 165\n",
      "[[70 75]\n",
      " [80 85]\n",
      " [90 95]] 185\n"
     ]
    }
   ],
   "source": [
    "# choose a number of time steps\n",
    "n_steps = 3\n",
    "\n",
    "# convert into input/output\n",
    "X, y = split_sequences(dataset, n_steps)\n",
    "print(\"Number of samples:\", X.shape[0],\n",
    "      \"\\nNumber of timesteps:\", X.shape[1]\n",
    "      ,\"\\nNumber of parallel time series (or # of vars/features):\", X.shape[2]\n",
    "      ,\"\\nNumber of predictions:\", y.shape[0], \"\\n\")\n",
    "\n",
    "# summarize the data\n",
    "for i in range(len(X)):\n",
    "\tprint(X[i], y[i])"
   ]
  },
  {
   "cell_type": "markdown",
   "id": "e0009630-10f9-48d3-996d-1fc0aa4d15eb",
   "metadata": {},
   "source": [
    "## Multiple Parallel Series\n",
    "\n",
    "An alternate time series problem is the case where there are multiple parallel time series and a value must be predicted for each."
   ]
  },
  {
   "cell_type": "code",
   "execution_count": 51,
   "id": "8085a5c8-f808-4149-9b95-9c8dbbbe6730",
   "metadata": {},
   "outputs": [],
   "source": [
    "# define input sequence (same as previous example)\n",
    "in_seq1 = array([10, 20, 30, 40, 50, 60, 70, 80, 90])\n",
    "in_seq2 = array([15, 25, 35, 45, 55, 65, 75, 85, 95])\n",
    "out_seq = array([in_seq1[i]+in_seq2[i] for i in range(len(in_seq1))])"
   ]
  },
  {
   "cell_type": "code",
   "execution_count": 52,
   "id": "16516011-2681-4e6b-ac3a-40fd9aa31290",
   "metadata": {},
   "outputs": [],
   "source": [
    "# convert to [rows, columns] structure\n",
    "in_seq1 = in_seq1.reshape((len(in_seq1), 1))\n",
    "in_seq2 = in_seq2.reshape((len(in_seq2), 1))\n",
    "out_seq = out_seq.reshape((len(out_seq), 1))\n",
    "# horizontally stack columns\n",
    "dataset = np.hstack((in_seq1, in_seq2, out_seq))"
   ]
  },
  {
   "cell_type": "code",
   "execution_count": 53,
   "id": "4b5ffd6f-b0c3-4d49-a197-1235ae1284ce",
   "metadata": {},
   "outputs": [
    {
     "data": {
      "text/plain": [
       "array([[ 10,  15,  25],\n",
       "       [ 20,  25,  45],\n",
       "       [ 30,  35,  65],\n",
       "       [ 40,  45,  85],\n",
       "       [ 50,  55, 105],\n",
       "       [ 60,  65, 125],\n",
       "       [ 70,  75, 145],\n",
       "       [ 80,  85, 165],\n",
       "       [ 90,  95, 185]])"
      ]
     },
     "execution_count": 53,
     "metadata": {},
     "output_type": "execute_result"
    }
   ],
   "source": [
    "dataset"
   ]
  },
  {
   "cell_type": "markdown",
   "id": "7c8a4e34-8a43-413a-93da-891fe64440ad",
   "metadata": {},
   "source": [
    "We may want to predict the value for each of the three time series for the next time step.\n",
    "\n",
    "This might be referred to as multivariate forecasting.\n",
    "\n",
    "Again, the data must be split into input/output samples in order to train a model.\n",
    "\n",
    "Input:\n",
    "\n",
    "`10, 15`\n",
    "\n",
    "`20, 25`\n",
    "\n",
    "`30, 35`\n",
    "\n",
    "Output: `40, 45, 85`\n",
    "\n",
    "The split_sequences() function below will split multiple parallel time series with rows for time steps and one series per column into the required input/output shape.\n",
    "\n",
    "(Like univariate splitting but with multiple columns)"
   ]
  },
  {
   "cell_type": "code",
   "execution_count": 62,
   "id": "06491e9a-e937-407c-8c17-d5621f61140d",
   "metadata": {},
   "outputs": [],
   "source": [
    "# split a multivariate sequence into samples\n",
    "def split_sequences(sequences, n_steps):\n",
    "\tX, y = list(), list()\n",
    "\tfor i in range(len(sequences)):\n",
    "\t\t# find the end of this pattern\n",
    "\t\tend_ix = i + n_steps\n",
    "\t\t# check if we are beyond the dataset\n",
    "\t\tif end_ix > len(sequences)-1:\n",
    "\t\t\tbreak\n",
    "\t\t# gather input and output parts of the pattern\n",
    "\t\tseq_x, seq_y = sequences[i:end_ix, :], sequences[end_ix, :]\n",
    "\t\tX.append(seq_x)\n",
    "\t\ty.append(seq_y)\n",
    "\treturn array(X), array(y)"
   ]
  },
  {
   "cell_type": "code",
   "execution_count": 63,
   "id": "bcc91610-f166-4966-8f85-589c5a8e3965",
   "metadata": {},
   "outputs": [
    {
     "name": "stdout",
     "output_type": "stream",
     "text": [
      "(6, 3, 3) (6, 3)\n",
      "[[10 15 25]\n",
      " [20 25 45]\n",
      " [30 35 65]] [40 45 85]\n",
      "[[20 25 45]\n",
      " [30 35 65]\n",
      " [40 45 85]] [ 50  55 105]\n",
      "[[ 30  35  65]\n",
      " [ 40  45  85]\n",
      " [ 50  55 105]] [ 60  65 125]\n",
      "[[ 40  45  85]\n",
      " [ 50  55 105]\n",
      " [ 60  65 125]] [ 70  75 145]\n",
      "[[ 50  55 105]\n",
      " [ 60  65 125]\n",
      " [ 70  75 145]] [ 80  85 165]\n",
      "[[ 60  65 125]\n",
      " [ 70  75 145]\n",
      " [ 80  85 165]] [ 90  95 185]\n"
     ]
    }
   ],
   "source": [
    "# choose a number of time steps\n",
    "n_steps = 3\n",
    "# convert into input/output\n",
    "X, y = split_sequences(dataset, n_steps)\n",
    "print(X.shape, y.shape)\n",
    "# summarize the data\n",
    "for i in range(len(X)):\n",
    "\tprint(X[i], y[i])"
   ]
  },
  {
   "cell_type": "markdown",
   "id": "432e1383-e76b-4232-9977-2b2124519d07",
   "metadata": {},
   "source": [
    "# Mix Two"
   ]
  },
  {
   "cell_type": "markdown",
   "id": "3e358e62-d2b2-4b0b-9713-dac24ba68058",
   "metadata": {},
   "source": [
    "## Multiple Input Multi-Step Output"
   ]
  },
  {
   "cell_type": "code",
   "execution_count": 64,
   "id": "31564da7-f54f-4499-a4cc-c6a35c626876",
   "metadata": {},
   "outputs": [],
   "source": [
    "# define input sequence (same as previous example)\n",
    "in_seq1 = array([10, 20, 30, 40, 50, 60, 70, 80, 90])\n",
    "in_seq2 = array([15, 25, 35, 45, 55, 65, 75, 85, 95])\n",
    "out_seq = array([in_seq1[i]+in_seq2[i] for i in range(len(in_seq1))])"
   ]
  },
  {
   "cell_type": "code",
   "execution_count": 65,
   "id": "7bed0525-d161-4f06-a58f-86dfe1dff80f",
   "metadata": {},
   "outputs": [],
   "source": [
    "# convert to [rows, columns] structure\n",
    "in_seq1 = in_seq1.reshape((len(in_seq1), 1))\n",
    "in_seq2 = in_seq2.reshape((len(in_seq2), 1))\n",
    "out_seq = out_seq.reshape((len(out_seq), 1))\n",
    "# horizontally stack columns\n",
    "dataset = np.hstack((in_seq1, in_seq2, out_seq))"
   ]
  },
  {
   "cell_type": "code",
   "execution_count": 66,
   "id": "4be0be1c-f3e8-46a9-8273-15deb7c1df5a",
   "metadata": {},
   "outputs": [
    {
     "data": {
      "text/plain": [
       "array([[ 10,  15,  25],\n",
       "       [ 20,  25,  45],\n",
       "       [ 30,  35,  65],\n",
       "       [ 40,  45,  85],\n",
       "       [ 50,  55, 105],\n",
       "       [ 60,  65, 125],\n",
       "       [ 70,  75, 145],\n",
       "       [ 80,  85, 165],\n",
       "       [ 90,  95, 185]])"
      ]
     },
     "execution_count": 66,
     "metadata": {},
     "output_type": "execute_result"
    }
   ],
   "source": [
    "dataset"
   ]
  },
  {
   "cell_type": "code",
   "execution_count": 67,
   "id": "2423ae71-30bd-4636-bb51-936ee1dac68f",
   "metadata": {},
   "outputs": [],
   "source": [
    "# split a multivariate sequence into samples\n",
    "def split_sequences(sequences, n_steps_in, n_steps_out):\n",
    "\tX, y = list(), list()\n",
    "\tfor i in range(len(sequences)):\n",
    "\t\t# find the end of this pattern\n",
    "\t\tend_ix = i + n_steps_in\n",
    "\t\tout_end_ix = end_ix + n_steps_out-1\n",
    "\t\t# check if we are beyond the dataset\n",
    "\t\tif out_end_ix > len(sequences):\n",
    "\t\t\tbreak\n",
    "\t\t# gather input and output parts of the pattern\n",
    "\t\tseq_x, seq_y = sequences[i:end_ix, :-1], sequences[end_ix-1:out_end_ix, -1]\n",
    "\t\tX.append(seq_x)\n",
    "\t\ty.append(seq_y)\n",
    "\treturn array(X), array(y)"
   ]
  },
  {
   "cell_type": "code",
   "execution_count": 68,
   "id": "081bce52-5943-4fba-a455-bfed20d202de",
   "metadata": {},
   "outputs": [
    {
     "name": "stdout",
     "output_type": "stream",
     "text": [
      "(6, 3, 2) (6, 2)\n",
      "[[10 15]\n",
      " [20 25]\n",
      " [30 35]] [65 85]\n",
      "[[20 25]\n",
      " [30 35]\n",
      " [40 45]] [ 85 105]\n",
      "[[30 35]\n",
      " [40 45]\n",
      " [50 55]] [105 125]\n",
      "[[40 45]\n",
      " [50 55]\n",
      " [60 65]] [125 145]\n",
      "[[50 55]\n",
      " [60 65]\n",
      " [70 75]] [145 165]\n",
      "[[60 65]\n",
      " [70 75]\n",
      " [80 85]] [165 185]\n"
     ]
    }
   ],
   "source": [
    "# choose a number of time steps\n",
    "n_steps_in, n_steps_out = 3, 2\n",
    "# convert into input/output\n",
    "X, y = split_sequences(dataset, n_steps_in, n_steps_out)\n",
    "print(X.shape, y.shape)\n",
    "# summarize the data\n",
    "for i in range(len(X)):\n",
    "\tprint(X[i], y[i])"
   ]
  },
  {
   "cell_type": "markdown",
   "id": "b605cc51-f95b-42e2-910f-1de18fe0e5e3",
   "metadata": {},
   "source": [
    "## Multiple Parallel Input and Multi-Step Output\n",
    "\n",
    "A problem with parallel time series may require the prediction of multiple time steps of each time series."
   ]
  },
  {
   "cell_type": "code",
   "execution_count": 64,
   "id": "6d781c1a-5350-45f9-bdcc-43bae0598776",
   "metadata": {},
   "outputs": [],
   "source": [
    "# define input sequence (same as previous example)\n",
    "in_seq1 = array([10, 20, 30, 40, 50, 60, 70, 80, 90])\n",
    "in_seq2 = array([15, 25, 35, 45, 55, 65, 75, 85, 95])\n",
    "out_seq = array([in_seq1[i]+in_seq2[i] for i in range(len(in_seq1))])"
   ]
  },
  {
   "cell_type": "code",
   "execution_count": 65,
   "id": "6633714d-c7dd-4dfe-aa77-872e2ac92fcf",
   "metadata": {},
   "outputs": [],
   "source": [
    "# convert to [rows, columns] structure\n",
    "in_seq1 = in_seq1.reshape((len(in_seq1), 1))\n",
    "in_seq2 = in_seq2.reshape((len(in_seq2), 1))\n",
    "out_seq = out_seq.reshape((len(out_seq), 1))\n",
    "# horizontally stack columns\n",
    "dataset = np.hstack((in_seq1, in_seq2, out_seq))"
   ]
  },
  {
   "cell_type": "code",
   "execution_count": 69,
   "id": "a6d57ec1-7b25-421d-801b-ffd99a5f174d",
   "metadata": {},
   "outputs": [
    {
     "data": {
      "text/plain": [
       "array([[ 10,  15,  25],\n",
       "       [ 20,  25,  45],\n",
       "       [ 30,  35,  65],\n",
       "       [ 40,  45,  85],\n",
       "       [ 50,  55, 105],\n",
       "       [ 60,  65, 125],\n",
       "       [ 70,  75, 145],\n",
       "       [ 80,  85, 165],\n",
       "       [ 90,  95, 185]])"
      ]
     },
     "execution_count": 69,
     "metadata": {},
     "output_type": "execute_result"
    }
   ],
   "source": [
    "dataset"
   ]
  },
  {
   "cell_type": "code",
   "execution_count": 70,
   "id": "0248b241-3126-49f3-856a-a3c2d3fb92da",
   "metadata": {},
   "outputs": [],
   "source": [
    "# split a multivariate sequence into samples\n",
    "def split_sequences(sequences, n_steps_in, n_steps_out):\n",
    "\tX, y = list(), list()\n",
    "\tfor i in range(len(sequences)):\n",
    "\t\t# find the end of this pattern\n",
    "\t\tend_ix = i + n_steps_in\n",
    "\t\tout_end_ix = end_ix + n_steps_out\n",
    "\t\t# check if we are beyond the dataset\n",
    "\t\tif out_end_ix > len(sequences):\n",
    "\t\t\tbreak\n",
    "\t\t# gather input and output parts of the pattern\n",
    "\t\tseq_x, seq_y = sequences[i:end_ix, :], sequences[end_ix:out_end_ix, :]\n",
    "\t\tX.append(seq_x)\n",
    "\t\ty.append(seq_y)\n",
    "\treturn array(X), array(y)"
   ]
  },
  {
   "cell_type": "code",
   "execution_count": 75,
   "id": "4ce2396e-5ae5-4d50-89be-89b9e2ea3187",
   "metadata": {},
   "outputs": [
    {
     "name": "stdout",
     "output_type": "stream",
     "text": [
      "(5, 3, 3) (5, 2, 3)\n",
      "\n",
      "\n",
      " [[10 15 25]\n",
      " [20 25 45]\n",
      " [30 35 65]] \n",
      "\n",
      " [[ 40  45  85]\n",
      " [ 50  55 105]]\n",
      "\n",
      "\n",
      " [[20 25 45]\n",
      " [30 35 65]\n",
      " [40 45 85]] \n",
      "\n",
      " [[ 50  55 105]\n",
      " [ 60  65 125]]\n",
      "\n",
      "\n",
      " [[ 30  35  65]\n",
      " [ 40  45  85]\n",
      " [ 50  55 105]] \n",
      "\n",
      " [[ 60  65 125]\n",
      " [ 70  75 145]]\n",
      "\n",
      "\n",
      " [[ 40  45  85]\n",
      " [ 50  55 105]\n",
      " [ 60  65 125]] \n",
      "\n",
      " [[ 70  75 145]\n",
      " [ 80  85 165]]\n",
      "\n",
      "\n",
      " [[ 50  55 105]\n",
      " [ 60  65 125]\n",
      " [ 70  75 145]] \n",
      "\n",
      " [[ 80  85 165]\n",
      " [ 90  95 185]]\n"
     ]
    }
   ],
   "source": [
    "# choose a number of time steps\n",
    "n_steps_in, n_steps_out = 3, 2\n",
    "# convert into input/output\n",
    "X, y = split_sequences(dataset, n_steps_in, n_steps_out)\n",
    "print(X.shape, y.shape)\n",
    "# summarize the data\n",
    "for i in range(len(X)):\n",
    "\tprint(\"\\n\\n\",X[i], \"\\n\\n\",y[i])"
   ]
  },
  {
   "cell_type": "code",
   "execution_count": null,
   "id": "f55a1a06-f4a5-45cb-94e5-e9621d6d1827",
   "metadata": {},
   "outputs": [],
   "source": []
  }
 ],
 "metadata": {
  "kernelspec": {
   "display_name": "Python 3 (ipykernel)",
   "language": "python",
   "name": "python3"
  },
  "language_info": {
   "codemirror_mode": {
    "name": "ipython",
    "version": 3
   },
   "file_extension": ".py",
   "mimetype": "text/x-python",
   "name": "python",
   "nbconvert_exporter": "python",
   "pygments_lexer": "ipython3",
   "version": "3.12.7"
  }
 },
 "nbformat": 4,
 "nbformat_minor": 5
}
