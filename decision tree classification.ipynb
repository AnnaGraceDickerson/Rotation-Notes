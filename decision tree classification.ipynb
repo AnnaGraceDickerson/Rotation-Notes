{
 "cells": [
  {
   "cell_type": "markdown",
   "metadata": {},
   "source": [
    "Got original code from [here](https://github.com/Suji04/ML_from_Scratch/blob/master/decision%20tree%20classification.ipynb)"
   ]
  },
  {
   "cell_type": "markdown",
   "metadata": {},
   "source": [
    "## Import tools"
   ]
  },
  {
   "cell_type": "code",
   "execution_count": 1,
   "metadata": {},
   "outputs": [],
   "source": [
    "import numpy as np\n",
    "import pandas as pd"
   ]
  },
  {
   "cell_type": "markdown",
   "metadata": {},
   "source": [
    "## Get the data"
   ]
  },
  {
   "cell_type": "code",
   "execution_count": 2,
   "metadata": {},
   "outputs": [
    {
     "data": {
      "text/html": [
       "<div>\n",
       "<style scoped>\n",
       "    .dataframe tbody tr th:only-of-type {\n",
       "        vertical-align: middle;\n",
       "    }\n",
       "\n",
       "    .dataframe tbody tr th {\n",
       "        vertical-align: top;\n",
       "    }\n",
       "\n",
       "    .dataframe thead th {\n",
       "        text-align: right;\n",
       "    }\n",
       "</style>\n",
       "<table border=\"1\" class=\"dataframe\">\n",
       "  <thead>\n",
       "    <tr style=\"text-align: right;\">\n",
       "      <th></th>\n",
       "      <th>sepal_length</th>\n",
       "      <th>sepal_width</th>\n",
       "      <th>petal_length</th>\n",
       "      <th>petal_width</th>\n",
       "      <th>type</th>\n",
       "    </tr>\n",
       "  </thead>\n",
       "  <tbody>\n",
       "    <tr>\n",
       "      <th>0</th>\n",
       "      <td>5.1</td>\n",
       "      <td>3.5</td>\n",
       "      <td>1.4</td>\n",
       "      <td>0.2</td>\n",
       "      <td>Setosa</td>\n",
       "    </tr>\n",
       "    <tr>\n",
       "      <th>1</th>\n",
       "      <td>4.9</td>\n",
       "      <td>3.0</td>\n",
       "      <td>1.4</td>\n",
       "      <td>0.2</td>\n",
       "      <td>Setosa</td>\n",
       "    </tr>\n",
       "    <tr>\n",
       "      <th>2</th>\n",
       "      <td>4.7</td>\n",
       "      <td>3.2</td>\n",
       "      <td>1.3</td>\n",
       "      <td>0.2</td>\n",
       "      <td>Setosa</td>\n",
       "    </tr>\n",
       "    <tr>\n",
       "      <th>3</th>\n",
       "      <td>4.6</td>\n",
       "      <td>3.1</td>\n",
       "      <td>1.5</td>\n",
       "      <td>0.2</td>\n",
       "      <td>Setosa</td>\n",
       "    </tr>\n",
       "    <tr>\n",
       "      <th>4</th>\n",
       "      <td>5.0</td>\n",
       "      <td>3.6</td>\n",
       "      <td>1.4</td>\n",
       "      <td>0.2</td>\n",
       "      <td>Setosa</td>\n",
       "    </tr>\n",
       "    <tr>\n",
       "      <th>5</th>\n",
       "      <td>5.4</td>\n",
       "      <td>3.9</td>\n",
       "      <td>1.7</td>\n",
       "      <td>0.4</td>\n",
       "      <td>Setosa</td>\n",
       "    </tr>\n",
       "    <tr>\n",
       "      <th>6</th>\n",
       "      <td>4.6</td>\n",
       "      <td>3.4</td>\n",
       "      <td>1.4</td>\n",
       "      <td>0.3</td>\n",
       "      <td>Setosa</td>\n",
       "    </tr>\n",
       "    <tr>\n",
       "      <th>7</th>\n",
       "      <td>5.0</td>\n",
       "      <td>3.4</td>\n",
       "      <td>1.5</td>\n",
       "      <td>0.2</td>\n",
       "      <td>Setosa</td>\n",
       "    </tr>\n",
       "    <tr>\n",
       "      <th>8</th>\n",
       "      <td>4.4</td>\n",
       "      <td>2.9</td>\n",
       "      <td>1.4</td>\n",
       "      <td>0.2</td>\n",
       "      <td>Setosa</td>\n",
       "    </tr>\n",
       "    <tr>\n",
       "      <th>9</th>\n",
       "      <td>4.9</td>\n",
       "      <td>3.1</td>\n",
       "      <td>1.5</td>\n",
       "      <td>0.1</td>\n",
       "      <td>Setosa</td>\n",
       "    </tr>\n",
       "  </tbody>\n",
       "</table>\n",
       "</div>"
      ],
      "text/plain": [
       "   sepal_length  sepal_width  petal_length  petal_width    type\n",
       "0           5.1          3.5           1.4          0.2  Setosa\n",
       "1           4.9          3.0           1.4          0.2  Setosa\n",
       "2           4.7          3.2           1.3          0.2  Setosa\n",
       "3           4.6          3.1           1.5          0.2  Setosa\n",
       "4           5.0          3.6           1.4          0.2  Setosa\n",
       "5           5.4          3.9           1.7          0.4  Setosa\n",
       "6           4.6          3.4           1.4          0.3  Setosa\n",
       "7           5.0          3.4           1.5          0.2  Setosa\n",
       "8           4.4          2.9           1.4          0.2  Setosa\n",
       "9           4.9          3.1           1.5          0.1  Setosa"
      ]
     },
     "execution_count": 2,
     "metadata": {},
     "output_type": "execute_result"
    }
   ],
   "source": [
    "col_names = ['sepal_length', 'sepal_width', 'petal_length', 'petal_width', 'type']\n",
    "data = pd.read_csv(\"iris.csv\", skiprows=1, header=None, names=col_names)\n",
    "data.head(10)"
   ]
  },
  {
   "cell_type": "code",
   "execution_count": 3,
   "metadata": {},
   "outputs": [
    {
     "data": {
      "text/html": [
       "<div>\n",
       "<style scoped>\n",
       "    .dataframe tbody tr th:only-of-type {\n",
       "        vertical-align: middle;\n",
       "    }\n",
       "\n",
       "    .dataframe tbody tr th {\n",
       "        vertical-align: top;\n",
       "    }\n",
       "\n",
       "    .dataframe thead th {\n",
       "        text-align: right;\n",
       "    }\n",
       "</style>\n",
       "<table border=\"1\" class=\"dataframe\">\n",
       "  <thead>\n",
       "    <tr style=\"text-align: right;\">\n",
       "      <th></th>\n",
       "      <th>sepal_length</th>\n",
       "      <th>sepal_width</th>\n",
       "      <th>petal_length</th>\n",
       "      <th>petal_width</th>\n",
       "      <th>type</th>\n",
       "    </tr>\n",
       "  </thead>\n",
       "  <tbody>\n",
       "    <tr>\n",
       "      <th>0</th>\n",
       "      <td>5.1</td>\n",
       "      <td>3.5</td>\n",
       "      <td>1.4</td>\n",
       "      <td>0.2</td>\n",
       "      <td>Setosa</td>\n",
       "    </tr>\n",
       "    <tr>\n",
       "      <th>1</th>\n",
       "      <td>4.9</td>\n",
       "      <td>3.0</td>\n",
       "      <td>1.4</td>\n",
       "      <td>0.2</td>\n",
       "      <td>Setosa</td>\n",
       "    </tr>\n",
       "    <tr>\n",
       "      <th>2</th>\n",
       "      <td>4.7</td>\n",
       "      <td>3.2</td>\n",
       "      <td>1.3</td>\n",
       "      <td>0.2</td>\n",
       "      <td>Setosa</td>\n",
       "    </tr>\n",
       "    <tr>\n",
       "      <th>3</th>\n",
       "      <td>4.6</td>\n",
       "      <td>3.1</td>\n",
       "      <td>1.5</td>\n",
       "      <td>0.2</td>\n",
       "      <td>Setosa</td>\n",
       "    </tr>\n",
       "    <tr>\n",
       "      <th>4</th>\n",
       "      <td>5.0</td>\n",
       "      <td>3.6</td>\n",
       "      <td>1.4</td>\n",
       "      <td>0.2</td>\n",
       "      <td>Setosa</td>\n",
       "    </tr>\n",
       "    <tr>\n",
       "      <th>50</th>\n",
       "      <td>7.0</td>\n",
       "      <td>3.2</td>\n",
       "      <td>4.7</td>\n",
       "      <td>1.4</td>\n",
       "      <td>Versicolor</td>\n",
       "    </tr>\n",
       "    <tr>\n",
       "      <th>51</th>\n",
       "      <td>6.4</td>\n",
       "      <td>3.2</td>\n",
       "      <td>4.5</td>\n",
       "      <td>1.5</td>\n",
       "      <td>Versicolor</td>\n",
       "    </tr>\n",
       "    <tr>\n",
       "      <th>52</th>\n",
       "      <td>6.9</td>\n",
       "      <td>3.1</td>\n",
       "      <td>4.9</td>\n",
       "      <td>1.5</td>\n",
       "      <td>Versicolor</td>\n",
       "    </tr>\n",
       "    <tr>\n",
       "      <th>53</th>\n",
       "      <td>5.5</td>\n",
       "      <td>2.3</td>\n",
       "      <td>4.0</td>\n",
       "      <td>1.3</td>\n",
       "      <td>Versicolor</td>\n",
       "    </tr>\n",
       "    <tr>\n",
       "      <th>54</th>\n",
       "      <td>6.5</td>\n",
       "      <td>2.8</td>\n",
       "      <td>4.6</td>\n",
       "      <td>1.5</td>\n",
       "      <td>Versicolor</td>\n",
       "    </tr>\n",
       "    <tr>\n",
       "      <th>100</th>\n",
       "      <td>6.3</td>\n",
       "      <td>3.3</td>\n",
       "      <td>6.0</td>\n",
       "      <td>2.5</td>\n",
       "      <td>Virginica</td>\n",
       "    </tr>\n",
       "    <tr>\n",
       "      <th>101</th>\n",
       "      <td>5.8</td>\n",
       "      <td>2.7</td>\n",
       "      <td>5.1</td>\n",
       "      <td>1.9</td>\n",
       "      <td>Virginica</td>\n",
       "    </tr>\n",
       "    <tr>\n",
       "      <th>102</th>\n",
       "      <td>7.1</td>\n",
       "      <td>3.0</td>\n",
       "      <td>5.9</td>\n",
       "      <td>2.1</td>\n",
       "      <td>Virginica</td>\n",
       "    </tr>\n",
       "    <tr>\n",
       "      <th>103</th>\n",
       "      <td>6.3</td>\n",
       "      <td>2.9</td>\n",
       "      <td>5.6</td>\n",
       "      <td>1.8</td>\n",
       "      <td>Virginica</td>\n",
       "    </tr>\n",
       "    <tr>\n",
       "      <th>104</th>\n",
       "      <td>6.5</td>\n",
       "      <td>3.0</td>\n",
       "      <td>5.8</td>\n",
       "      <td>2.2</td>\n",
       "      <td>Virginica</td>\n",
       "    </tr>\n",
       "  </tbody>\n",
       "</table>\n",
       "</div>"
      ],
      "text/plain": [
       "     sepal_length  sepal_width  petal_length  petal_width        type\n",
       "0             5.1          3.5           1.4          0.2      Setosa\n",
       "1             4.9          3.0           1.4          0.2      Setosa\n",
       "2             4.7          3.2           1.3          0.2      Setosa\n",
       "3             4.6          3.1           1.5          0.2      Setosa\n",
       "4             5.0          3.6           1.4          0.2      Setosa\n",
       "50            7.0          3.2           4.7          1.4  Versicolor\n",
       "51            6.4          3.2           4.5          1.5  Versicolor\n",
       "52            6.9          3.1           4.9          1.5  Versicolor\n",
       "53            5.5          2.3           4.0          1.3  Versicolor\n",
       "54            6.5          2.8           4.6          1.5  Versicolor\n",
       "100           6.3          3.3           6.0          2.5   Virginica\n",
       "101           5.8          2.7           5.1          1.9   Virginica\n",
       "102           7.1          3.0           5.9          2.1   Virginica\n",
       "103           6.3          2.9           5.6          1.8   Virginica\n",
       "104           6.5          3.0           5.8          2.2   Virginica"
      ]
     },
     "execution_count": 3,
     "metadata": {},
     "output_type": "execute_result"
    }
   ],
   "source": [
    "data.groupby('type').head()"
   ]
  },
  {
   "cell_type": "markdown",
   "metadata": {},
   "source": [
    "## Node class"
   ]
  },
  {
   "cell_type": "code",
   "execution_count": 4,
   "metadata": {},
   "outputs": [],
   "source": [
    "class Node():\n",
    "    def __init__(self, feature_index=None, threshold=None, left=None, right=None, info_gain=None, value=None):\n",
    "        '''constructor'''\n",
    "\n",
    "        #for decision node\n",
    "        self.feature_index = feature_index\n",
    "        self.threshold = threshold\n",
    "        self.left = left\n",
    "        self.right = right\n",
    "        self.info_gain = info_gain\n",
    "\n",
    "        #for leaf node\n",
    "        self.value = value"
   ]
  },
  {
   "cell_type": "markdown",
   "metadata": {},
   "source": [
    "## Tree class"
   ]
  },
  {
   "cell_type": "code",
   "execution_count": 5,
   "metadata": {},
   "outputs": [],
   "source": [
    "class DecisionTreeClassifier():\n",
    "    # 1\n",
    "    def __init__(self, min_samples_split=2, max_depth=2):\n",
    "        ''' constructor '''\n",
    "        \n",
    "        # initialize the root of the tree \n",
    "        self.root = None\n",
    "        \n",
    "        # stopping conditions\n",
    "        self.min_samples_split = min_samples_split\n",
    "        self.max_depth = max_depth\n",
    "\n",
    "    # 3\n",
    "    # dataset = concat(X_train, Y_train)\n",
    "    def build_tree(self, dataset, curr_depth=0):\n",
    "        ''' recursive function to build the tree ''' \n",
    "\n",
    "        # splits the dataset up again: X = X_train, Y = Y_train\n",
    "        X, Y = dataset[:,:-1], dataset[:,-1]\n",
    "        # num_samples = row count/number of flowers there is data on\n",
    "        # num_features = column count/number of distinct pieces of info we have on a given flower\n",
    "        num_samples, num_features = np.shape(X)\n",
    "        \n",
    "        # split until stopping conditions are met\n",
    "        if num_samples>=self.min_samples_split and curr_depth<=self.max_depth:\n",
    "            # find the best split at each level of the tree you exhaustively try every single distinct value to split on to see which produces\n",
    "            # the best purity for that split level until you get to the level where your split created a subset that was small enough you\n",
    "            # want it to stop or your tree is deep enough you want it to stop\n",
    "            best_split = self.get_best_split(dataset, num_samples, num_features)\n",
    "            # check if information gain is positive\n",
    "            # if it isn't, the best split still made things worse/less pure so we don't want to do this split and \n",
    "            # we mark it as a leaf node, see below the if block\n",
    "            if best_split[\"info_gain\"]>0:\n",
    "                # recur left\n",
    "                left_subtree = self.build_tree(best_split[\"dataset_left\"], curr_depth+1)\n",
    "                # recur right\n",
    "                right_subtree = self.build_tree(best_split[\"dataset_right\"], curr_depth+1)\n",
    "                # return decision node if the split did make the info_gain better, then you check the further splits and once those have \n",
    "                # decided if they could improve the data or not you get here and return to the previous node of the tree, the column and \n",
    "                # value of the value/threshold you used to split the data to improve the purity. You also return the resulting \n",
    "                # Lchild node/object & Rchild node/object\n",
    "                # and the measure of data purity the sum of it's 2 child nodes or, if it's a leaf node, the purity of itself, has\n",
    "                return Node(best_split[\"feature_index\"], best_split[\"threshold\"], \n",
    "                            left_subtree, right_subtree, best_split[\"info_gain\"])\n",
    "        \n",
    "        # compute leaf node\n",
    "        # Y = the list of datalabels that go to the data in this final leaf subset that was determined to be more pure than\n",
    "        # any further split of it could be OR the max_depth OR min_sample_size of a leaf has been hit\n",
    "        # leaf_value = the most represented class in the given subset\n",
    "        leaf_value = self.calculate_leaf_value(Y)\n",
    "        # return leaf node\n",
    "        # the label that will be assigned to any input data that lands on that leaf\n",
    "        return Node(value=leaf_value)\n",
    "\n",
    "    # 4\n",
    "    def get_best_split(self, dataset, num_samples, num_features):\n",
    "        ''' function to find the best split '''\n",
    "        \n",
    "        # dictionary to store the best split\n",
    "        best_split = {}\n",
    "        max_info_gain = -float(\"inf\")\n",
    "\n",
    "        # Try every single distinct value in each column to see what the best split is. Exhaustive searching!\n",
    "        # loop over all the features \n",
    "            # for each column\n",
    "        for feature_index in range(num_features):\n",
    "            \n",
    "            # take all the rows in that column\n",
    "            feature_values = dataset[:, feature_index]\n",
    "\n",
    "            # for the given row, select all unique values to use as threshold options\n",
    "            possible_thresholds = np.unique(feature_values)\n",
    "\n",
    "            # loop over all the feature values present in the data\n",
    "            for threshold in possible_thresholds:\n",
    "                # get current split\n",
    "                # Passing in the whole train dataset, \n",
    "                # the current column index and \n",
    "                # the current unique column value we're trying as the splitting threshold\n",
    "                # returns 2 arrays instead of the 1, split according to the threshold\n",
    "                dataset_left, dataset_right = self.split(dataset, feature_index, threshold)\n",
    "                # check if childs are not null\n",
    "                # not really a split if it all goes in 1 bucket\n",
    "                if len(dataset_left)>0 and len(dataset_right)>0:\n",
    "                    # selecting only the \"answer\" column with the flower names from the pre-split dataset and each of the left and right splits\n",
    "                    y, left_y, right_y = dataset[:, -1], dataset_left[:, -1], dataset_right[:, -1]\n",
    "                    # compute information gain\n",
    "                    # curr_info_gain = (purity of parent) - (weighted purity of Lchild + weighted purity of Rchild)\n",
    "                    # is the purity of the split data better than the purity of the pre-split data?\n",
    "                    # if so curr_info_gain > 0, else curr_info_gain < 0\n",
    "                    curr_info_gain = self.information_gain(y, left_y, right_y, \"gini\")\n",
    "                    # update the best split if needed\n",
    "                    # max_info_gain starts of as -infinity\n",
    "                    # if a split improves the purity of the data, the sum of the gain of the two child nodes will be greater than the pre-split\n",
    "                    # the child notes that produce the most positive value of curr_info_gain will be the split that produces the most purity\n",
    "                    if curr_info_gain>max_info_gain:\n",
    "                        best_split[\"feature_index\"] = feature_index # column the best split value is in\n",
    "                        best_split[\"threshold\"] = threshold # value of the best split in that column\n",
    "                        best_split[\"dataset_left\"] = dataset_left # resultant Lchild of the split\n",
    "                        best_split[\"dataset_right\"] = dataset_right # resultant Rchild of the split\n",
    "                        best_split[\"info_gain\"] = curr_info_gain # how pure the split makes the data\n",
    "                        max_info_gain = curr_info_gain # temporary variable; technically could just use above line I think whenever referencing this variable\n",
    "                        \n",
    "        # return best split\n",
    "        return best_split\n",
    "\n",
    "    # 5\n",
    "    # Passing in the whole train dataset, \n",
    "    # the current column index and \n",
    "    # the current unique column value we're trying as the splitting threshold\n",
    "    def split(self, dataset, feature_index, threshold):\n",
    "        ''' function to split the data '''\n",
    "        # goes through every row in the (train or whatever) dataset and checks if the value of cell in the specified column is\n",
    "        # greater than or less than the threshold to put it in either the left or right side of the split\n",
    "        # This code achieves the same thing:\n",
    "        # arr1 = []\n",
    "        # for row in train:\n",
    "        #    if row[1] <= 2.3:\n",
    "        #        arr1.append(row)\n",
    "        # arr1 = np.array(arr1)\n",
    "        dataset_left = np.array([row for row in dataset if row[feature_index]<=threshold])\n",
    "        dataset_right = np.array([row for row in dataset if row[feature_index]>threshold])\n",
    "\n",
    "        # returns 2 arrays instead of the 1 array it was passed\n",
    "        return dataset_left, dataset_right\n",
    "\n",
    "    # 6\n",
    "    # parent, left and right split children arrays with only the \"answer\" column of the flower names \n",
    "    # when finding best split and checking the information gained from that split, mode=\"gini\"\n",
    "    def information_gain(self, parent, l_child, r_child, mode=\"entropy\"):\n",
    "        ''' function to compute information gain '''\n",
    "        \n",
    "        weight_l = len(l_child) / len(parent)\n",
    "        weight_r = len(r_child) / len(parent)\n",
    "        if mode==\"gini\":\n",
    "            # (purity of parent) - (weighted purity of Lchild + weighted purity of Rchild)\n",
    "            # is the purity of the split data better than the purity of the pre-split data?\n",
    "            # if so gain > 0, else gain < 0\n",
    "            gain = self.gini_index(parent) - (weight_l*self.gini_index(l_child) + weight_r*self.gini_index(r_child))\n",
    "        else:\n",
    "            gain = self.entropy(parent) - (weight_l*self.entropy(l_child) + weight_r*self.entropy(r_child))\n",
    "        return gain\n",
    "    \n",
    "    def entropy(self, y):\n",
    "        ''' function to compute entropy '''\n",
    "        \n",
    "        class_labels = np.unique(y)\n",
    "        entropy = 0\n",
    "        for cls in class_labels:\n",
    "            p_cls = len(y[y == cls]) / len(y)\n",
    "            entropy += -p_cls * np.log2(p_cls)\n",
    "        return entropy\n",
    "\n",
    "    # 7\n",
    "    # calculating the Gini impurity/index measures the probability of incorrectly classifying a randomly chosen element \n",
    "    # from a dataset if it were labeled according to the distribution of labels in the subset.\n",
    "    # Gini purity = sum of the squares of the fraction of each class in a dataset.\n",
    "    # Gini impurity = 1 - giniPurity\n",
    "    # It's used in the splitting process of decision tree algorithms by choosing the split that creates the \n",
    "    # smallest Gini impurity value/greates Gini purity value\n",
    "    # (makes sense because you want the decision tree to be able to cleanly land your input into a probable class \n",
    "    # not a mixture of possible classes like it would be if each leaf represented an even split of different classes.\n",
    "    def gini_index(self, y):\n",
    "        ''' function to compute gini index '''\n",
    "\n",
    "        # takes all unique entries in the \"answer\" column\n",
    "        # in other words, seeing which flowers are represented in a subset \n",
    "        class_labels = np.unique(y)\n",
    "        gini = 0\n",
    "        for cls in class_labels:\n",
    "            # calculates what percentage of the dataset the given flower/class makes up\n",
    "            p_cls = len(y[y == cls]) / len(y)\n",
    "            # squaring the probability for a given class gives the likelhood that 2 randomly chosen elements are in that class\n",
    "            # then you sum the probabilities to measure the overall liklihood of randomly selecting 2 elements from the same class\n",
    "            gini += p_cls**2\n",
    "        return 1 - gini\n",
    "\n",
    "    # 8\n",
    "    # returns the most represented class in the given subset\n",
    "    def calculate_leaf_value(self, Y):\n",
    "        ''' function to compute leaf node '''\n",
    "        \n",
    "        Y = list(Y)\n",
    "        return max(Y, key=Y.count)\n",
    "\n",
    "    # 9 (not called in build_tree)\n",
    "    def print_tree(self, tree=None, indent=\" \"):\n",
    "        ''' function to print the tree '''\n",
    "        \n",
    "        if not tree:\n",
    "            tree = self.root\n",
    "\n",
    "        if tree.value is not None:\n",
    "            print(tree.value)\n",
    "\n",
    "        else:\n",
    "            # X_column_value_was_found_in <= value_data_was_subsequently_split_on ? the_purity_after_splitting_on_that_value\n",
    "            # for all rows where the value in that row that corresponds to the column the threshold value was found in,\n",
    "            # if that comparative value is less than the chosen threshold, it will be put in a different subset than if the value is greater\n",
    "            print(\"X_\"+str(tree.feature_index), \"<=\", tree.threshold, \"?\", tree.info_gain)\n",
    "            \n",
    "            # then display the resulting left and right child subsets after that split\n",
    "            print(\"%sleft:\" % (indent), end=\"\")\n",
    "            self.print_tree(tree.left, indent + indent)\n",
    "            print(\"%sright:\" % (indent), end=\"\")\n",
    "            self.print_tree(tree.right, indent + indent)\n",
    "    \n",
    "    # 2\n",
    "    def fit(self, X, Y):\n",
    "        ''' function to train the tree '''\n",
    "\n",
    "        # different from dataset.values because X_train and Y_train subsets are being passed in as X and Y\n",
    "        dataset = np.concatenate((X, Y), axis=1)\n",
    "        self.root = self.build_tree(dataset)\n",
    "\n",
    "    # 10\n",
    "    # X = X_test = subset of the data without the flower labels column\n",
    "    def predict(self, X):\n",
    "        ''' function to predict new dataset '''\n",
    "        # for every row in X_test, find what leaf node/label prediction it lands at\n",
    "        # store values in an array\n",
    "        preditions = [self.make_prediction(x, self.root) for x in X]\n",
    "        return preditions\n",
    "\n",
    "    # 11\n",
    "    # x = a row in X_test\n",
    "    def make_prediction(self, x, tree):\n",
    "        ''' function to predict a single data point '''\n",
    "\n",
    "        # checks if its reached a leaf node and if it has it returns the value\n",
    "        if tree.value!=None: return tree.value\n",
    "        # stores the value in the column the threshold value is from. (first time this runs it runs on the root node but its recursive)\n",
    "        feature_val = x[tree.feature_index]\n",
    "\n",
    "        # if the comparative value in the test sample row is less than the threshold it goes to the left child, if greater it goes to the right\n",
    "        # goes until it reaches a prediction/leaf node for that row and then returns\n",
    "        if feature_val<=tree.threshold:\n",
    "            return self.make_prediction(x, tree.left)\n",
    "        else:\n",
    "            return self.make_prediction(x, tree.right)\n",
    "            "
   ]
  },
  {
   "cell_type": "markdown",
   "metadata": {},
   "source": [
    "## Train-Test split"
   ]
  },
  {
   "cell_type": "code",
   "execution_count": 43,
   "metadata": {},
   "outputs": [],
   "source": [
    "# gets rid of the last column 'type' which says the flower name in string\n",
    "# puts values of the selected sub-set into an numpy.ndarray - an array of array in this case index by [#] for row and [#][#] for cell\n",
    "X = data.iloc[:, :-1].values\n",
    "\n",
    "# selects only the last column (the one discarded above in the X variable)\n",
    "# changes it to a 1D array (cell = [#])\n",
    "# reshapes from (150,) to (150,1). Makes it all on big column instead of 1 big row I think is the idea.\n",
    "Y = data.iloc[:, -1].values.reshape(-1,1)\n",
    "\n",
    "\n",
    "from sklearn.model_selection import train_test_split\n",
    "X_train, X_test, Y_train, Y_test = train_test_split(X, Y, test_size=.2, random_state=41)"
   ]
  },
  {
   "cell_type": "code",
   "execution_count": 60,
   "metadata": {},
   "outputs": [
    {
     "data": {
      "text/plain": [
       "array([2.0, 2.2, 2.3, 2.4, 2.5, 2.6, 2.7, 2.8, 2.9, 3.0, 3.1, 3.2, 3.3,\n",
       "       3.4, 3.5, 3.6, 3.7, 3.8, 3.9, 4.0, 4.1, 4.2, 4.4], dtype=object)"
      ]
     },
     "execution_count": 60,
     "metadata": {},
     "output_type": "execute_result"
    }
   ],
   "source": [
    "train = np.concatenate((X_train, Y_train), axis = 1)\n",
    "np.unique(train[:,1])"
   ]
  },
  {
   "cell_type": "code",
   "execution_count": 65,
   "metadata": {},
   "outputs": [
    {
     "data": {
      "text/plain": [
       "array([[6.2, 2.2, 4.5, 1.5, 'Versicolor'],\n",
       "       [6.3, 2.3, 4.4, 1.3, 'Versicolor'],\n",
       "       [5.0, 2.0, 3.5, 1.0, 'Versicolor'],\n",
       "       [5.5, 2.3, 4.0, 1.3, 'Versicolor']], dtype=object)"
      ]
     },
     "execution_count": 65,
     "metadata": {},
     "output_type": "execute_result"
    }
   ],
   "source": [
    "np.array([row for row in train if row[1]<=2.3])"
   ]
  },
  {
   "cell_type": "code",
   "execution_count": 81,
   "metadata": {},
   "outputs": [],
   "source": [
    "splitL = []\n",
    "for row in train:\n",
    "    if row[1] <= 2.3:\n",
    "        splitL.append(row)\n",
    "splitL = np.array(splitL)\n",
    "\n",
    "splitR = []\n",
    "for row in train:\n",
    "    if row[1] > 2.3:\n",
    "        splitR.append(row)\n",
    "splitR = np.array(splitR)"
   ]
  },
  {
   "cell_type": "code",
   "execution_count": 83,
   "metadata": {
    "scrolled": true
   },
   "outputs": [],
   "source": [
    "y = train[:,-1]\n",
    "ly = splitL[:,-1]\n",
    "ry = splitR[:,-1]"
   ]
  },
  {
   "cell_type": "code",
   "execution_count": 84,
   "metadata": {},
   "outputs": [
    {
     "data": {
      "text/plain": [
       "array(['Setosa', 'Versicolor', 'Virginica'], dtype=object)"
      ]
     },
     "execution_count": 84,
     "metadata": {},
     "output_type": "execute_result"
    }
   ],
   "source": [
    "class_labels = np.unique(y)\n",
    "class_labels"
   ]
  },
  {
   "cell_type": "code",
   "execution_count": 87,
   "metadata": {},
   "outputs": [
    {
     "name": "stdout",
     "output_type": "stream",
     "text": [
      "p_cls 0.3416666666666667\n",
      "gini 0.11673611111111111\n",
      "p_cls 0.325\n",
      "gini 0.22236111111111112\n",
      "p_cls 0.3333333333333333\n",
      "gini 0.3334722222222222\n"
     ]
    }
   ],
   "source": [
    "gini = 0\n",
    "for cls in class_labels:\n",
    "    # calculates what percentage of the dataset the given flower/class makes up\n",
    "    p_cls = len(y[y == cls]) / len(y)\n",
    "    print('p_cls',p_cls)\n",
    "    # adds the percentage \n",
    "    gini += p_cls**2\n",
    "    print('gini',gini)\n",
    "    \n",
    "#return 1 - gini"
   ]
  },
  {
   "cell_type": "code",
   "execution_count": null,
   "metadata": {},
   "outputs": [],
   "source": []
  },
  {
   "cell_type": "markdown",
   "metadata": {},
   "source": [
    "## Fit the model"
   ]
  },
  {
   "cell_type": "code",
   "execution_count": 97,
   "metadata": {},
   "outputs": [
    {
     "data": {
      "text/plain": [
       "0      1.4\n",
       "1      1.4\n",
       "2      1.3\n",
       "3      1.5\n",
       "4      1.4\n",
       "      ... \n",
       "145    5.2\n",
       "146    5.0\n",
       "147    5.2\n",
       "148    5.4\n",
       "149    5.1\n",
       "Name: petal_length, Length: 150, dtype: float64"
      ]
     },
     "execution_count": 97,
     "metadata": {},
     "output_type": "execute_result"
    }
   ],
   "source": [
    "data.iloc[:,2]"
   ]
  },
  {
   "cell_type": "code",
   "execution_count": 7,
   "metadata": {},
   "outputs": [
    {
     "name": "stdout",
     "output_type": "stream",
     "text": [
      "X_2 <= 1.9 ? 0.33741385372714494\n",
      " left:Setosa\n",
      " right:X_3 <= 1.5 ? 0.427106638180289\n",
      "  left:X_2 <= 4.9 ? 0.05124653739612173\n",
      "    left:Versicolor\n",
      "    right:Virginica\n",
      "  right:X_2 <= 5.0 ? 0.019631171921475288\n",
      "    left:X_1 <= 2.8 ? 0.20833333333333334\n",
      "        left:Virginica\n",
      "        right:Versicolor\n",
      "    right:Virginica\n"
     ]
    }
   ],
   "source": [
    "# instantiates (doesn't do much)\n",
    "classifier = DecisionTreeClassifier(min_samples_split=3, max_depth=3)\n",
    "\n",
    "# builds tree where each inner node of the tree now has:\n",
    "# a connection to a L and R child node, \n",
    "# a measure of the purity achieved by the subsequent split of that data,\n",
    "# the value in the data chosen for subsequent splitting\n",
    "# the column that value was found in\n",
    "# Each leaf node simply contains the flower/class label that is most likely for any given randonmly selected data in that final leaf subset\n",
    "classifier.fit(X_train,Y_train)\n",
    "\n",
    "# X_2 = threshold value is coming from the second column of the dataset\n",
    "# 1.9 = the threshold value chosen in the data set that produced the split with the greatest purity\n",
    "# 0.33741385372714494 = the level of purity achieved from splitting on this value\n",
    "# greater purity is gained from splitting further (left option is so pure subsequent splits don't improve it so it becomes a leaf node)\n",
    "# right node isn't v pure so it achieves more purity by splitting again on value of 1.5 from column 3\n",
    "# both left and right nodes achieve greater purity from subsequent splits\n",
    "# afterwards, doesn't matter if they get purer or not, the max_depth is set to 3 so the leafs have make a decision of most likley \n",
    "# label based on the subset they have\n",
    "\n",
    "# So, the algorithm works by taking an element (looks like a row from this data set) and checking various of its columns to various values\n",
    "# according to the flow of this tree demonstrated below\n",
    "classifier.print_tree()"
   ]
  },
  {
   "cell_type": "markdown",
   "metadata": {},
   "source": [
    "## Test the model"
   ]
  },
  {
   "cell_type": "code",
   "execution_count": 123,
   "metadata": {},
   "outputs": [
    {
     "name": "stdout",
     "output_type": "stream",
     "text": [
      "(30, 1)\n"
     ]
    },
    {
     "data": {
      "text/plain": [
       "30"
      ]
     },
     "execution_count": 123,
     "metadata": {},
     "output_type": "execute_result"
    }
   ],
   "source": [
    "print(np.shape(Y_test))\n",
    "total = np.shape(Y_test)[0]\n",
    "total"
   ]
  },
  {
   "cell_type": "code",
   "execution_count": 108,
   "metadata": {},
   "outputs": [],
   "source": [
    "Y_pred_arr = np.array(Y_pred).reshape(30,1)"
   ]
  },
  {
   "cell_type": "code",
   "execution_count": 112,
   "metadata": {},
   "outputs": [
    {
     "data": {
      "text/plain": [
       "(30,)"
      ]
     },
     "execution_count": 112,
     "metadata": {},
     "output_type": "execute_result"
    }
   ],
   "source": [
    "np.shape(Y_test[Y_test == Y_test])"
   ]
  },
  {
   "cell_type": "code",
   "execution_count": 115,
   "metadata": {},
   "outputs": [
    {
     "data": {
      "text/plain": [
       "array(['Virginica', 'Versicolor'], dtype=object)"
      ]
     },
     "execution_count": 115,
     "metadata": {},
     "output_type": "execute_result"
    }
   ],
   "source": [
    "Y_test[Y_test != Y_pred_arr]"
   ]
  },
  {
   "cell_type": "code",
   "execution_count": 124,
   "metadata": {},
   "outputs": [
    {
     "data": {
      "text/plain": [
       "28"
      ]
     },
     "execution_count": 124,
     "metadata": {},
     "output_type": "execute_result"
    }
   ],
   "source": [
    "correct = np.shape(Y_test[Y_test == Y_pred_arr])[0]\n",
    "correct"
   ]
  },
  {
   "cell_type": "code",
   "execution_count": 125,
   "metadata": {},
   "outputs": [
    {
     "data": {
      "text/plain": [
       "0.9333333333333333"
      ]
     },
     "execution_count": 125,
     "metadata": {},
     "output_type": "execute_result"
    }
   ],
   "source": [
    "correct/total"
   ]
  },
  {
   "cell_type": "code",
   "execution_count": 126,
   "metadata": {},
   "outputs": [
    {
     "data": {
      "text/plain": [
       "0.9333333333333333"
      ]
     },
     "execution_count": 126,
     "metadata": {},
     "output_type": "execute_result"
    }
   ],
   "source": [
    "total = np.shape(Y_test)[0]\n",
    "correct = np.shape(Y_test[Y_test == Y_pred_arr])[0]\n",
    "correct/total"
   ]
  },
  {
   "cell_type": "code",
   "execution_count": 8,
   "metadata": {},
   "outputs": [
    {
     "data": {
      "text/plain": [
       "0.9333333333333333"
      ]
     },
     "execution_count": 8,
     "metadata": {},
     "output_type": "execute_result"
    }
   ],
   "source": [
    "# predict: for every row in X_test, find what leaf node/label prediction it lands at\n",
    "# store values in an array and return to Y_pred\n",
    "Y_pred = classifier.predict(X_test) \n",
    "\n",
    "# easier way to compute accuracy than the manual way I did above\n",
    "from sklearn.metrics import accuracy_score\n",
    "accuracy_score(Y_test, Y_pred)"
   ]
  },
  {
   "cell_type": "markdown",
   "metadata": {},
   "source": [
    "# How does this apply to neural datasets\n",
    "\n",
    "A neural state for an area can be represented by the firing rate of the set of neurons in that area (at a given time point), just like a flower can be represented by its sepal and petal length and width.\n",
    "\n",
    "In the case of a flower, the features/columns for the flower data are the sepal and petal length; for a neural state, there is a feature/column in the data for each neuron whose firing rate you are recording.\n",
    "\n",
    "For the flower dataset, you could represent the state as a 4D space graphed via the 4 values that represent the state. OR you could reduce the representation to 1D - simply be the flower name. The 4D flower metrics data would *map* onto the 1D flower label space.\n",
    "\n",
    "In the same way, a dataset with as many columns as neurons (represented by an ND space where N is the number of neurons you're recording) can be represented by fewer variables. Not neccessarily a 1D space, but perhaps a 3-6D space. \n",
    "\n",
    "So, while the decision tree for the flower petals returns a single variable - the flower label/name, the decision tree for the neural data could return say 3-6 variables that you could graph to reduce the dimensions of the state space like you reduced the dimensions of the flower type space from 4 to 1."
   ]
  },
  {
   "cell_type": "code",
   "execution_count": 127,
   "metadata": {},
   "outputs": [
    {
     "data": {
      "text/plain": [
       "array([100, 110, 120, 130, 140, 150, 160, 170, 180, 190])"
      ]
     },
     "execution_count": 127,
     "metadata": {},
     "output_type": "execute_result"
    }
   ],
   "source": [
    "np.arange(100, 200, 10)"
   ]
  },
  {
   "cell_type": "markdown",
   "metadata": {},
   "source": [
    "# Manual Gaussian filtering\n",
    "haven't entirely worked through the code"
   ]
  },
  {
   "cell_type": "code",
   "execution_count": 129,
   "metadata": {},
   "outputs": [],
   "source": [
    "import numpy as np\n",
    "import matplotlib.pyplot as plt\n",
    "\n",
    "# Create a simple noisy dataset: a sine wave with added noise\n",
    "np.random.seed(42)  # For reproducibility\n",
    "x = np.linspace(0, 10, 100)\n",
    "y = np.sin(x) + np.random.normal(0, 0.5, size=x.size)\n",
    "\n",
    "# Define a function to apply a Gaussian filter manually\n",
    "def manual_gaussian_filter(data, window_size=5, sigma=1):\n",
    "    \"\"\"\n",
    "    Applies a Gaussian filter manually to the input data.\n",
    "    \n",
    "    :param data: Input array to smooth.\n",
    "    :param window_size: The size of the window (number of bins to consider).\n",
    "    :param sigma: Standard deviation for the Gaussian filter.\n",
    "    :return: Smoothed data array.\n",
    "    \"\"\"\n",
    "    # Create a Gaussian kernel\n",
    "    kernel_range = np.arange(-window_size//2 + 1, window_size//2 + 1)\n",
    "    gaussian_kernel = np.exp(-0.5 * (kernel_range / sigma) ** 2)\n",
    "    gaussian_kernel /= gaussian_kernel.sum()  # Normalize the kernel\n",
    "\n",
    "    # Prepare an array to store the smoothed data\n",
    "    smoothed_data = np.zeros_like(data)\n",
    "\n",
    "    # Manually apply the Gaussian filter using convolution\n",
    "    half_window = window_size // 2\n",
    "    for i in range(len(data)):\n",
    "        # Define the window range for the current point\n",
    "        start = max(0, i - half_window)\n",
    "        end = min(len(data), i + half_window + 1)\n",
    "        window = data[start:end]\n",
    "        \n",
    "        # Adjust the kernel if we're near the boundaries\n",
    "        kernel = gaussian_kernel[(half_window - (i - start)):(half_window + (end - i))]\n",
    "        kernel /= kernel.sum()  # Re-normalize the kernel for edge handling\n",
    "\n",
    "        # Apply the filter: weighted sum of the data window\n",
    "        smoothed_data[i] = np.sum(window * kernel)\n",
    "\n",
    "    return smoothed_data\n",
    "\n",
    "# Apply the manual Gaussian filter to the noisy data\n",
    "smoothed_y_manual = manual_gaussian_filter(y, window_size=5, sigma=1)"
   ]
  },
  {
   "cell_type": "code",
   "execution_count": 130,
   "metadata": {},
   "outputs": [
    {
     "data": {
      "image/png": "[encoded data removed]",
      "text/plain": [
       "<Figure size 1000x500 with 1 Axes>"
      ]
     },
     "metadata": {},
     "output_type": "display_data"
    }
   ],
   "source": [
    "# Plot the original noisy data and the manually smoothed result\n",
    "plt.figure(figsize=(10, 5))\n",
    "plt.plot(x, y, label='Noisy Data', alpha=0.6)\n",
    "plt.plot(x, smoothed_y_manual, label='Manually Smoothed Data (Gaussian Filter)', linewidth=2)\n",
    "plt.xlabel('x')\n",
    "plt.ylabel('y')\n",
    "plt.title('Manual Gaussian Filter Smoothing Example')\n",
    "plt.legend()\n",
    "plt.grid(True)\n",
    "plt.show()"
   ]
  },
  {
   "cell_type": "code",
   "execution_count": null,
   "metadata": {},
   "outputs": [],
   "source": []
  }
 ],
 "metadata": {
  "kernelspec": {
   "display_name": "Python 3 (ipykernel)",
   "language": "python",
   "name": "python3"
  },
  "language_info": {
   "codemirror_mode": {
    "name": "ipython",
    "version": 3
   },
   "file_extension": ".py",
   "mimetype": "text/x-python",
   "name": "python",
   "nbconvert_exporter": "python",
   "pygments_lexer": "ipython3",
   "version": "3.11.6"
  }
 },
 "nbformat": 4,
 "nbformat_minor": 4
}
